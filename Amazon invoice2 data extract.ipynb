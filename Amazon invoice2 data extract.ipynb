{
 "cells": [
  {
   "cell_type": "code",
   "execution_count": 2,
   "id": "7e477cc8",
   "metadata": {},
   "outputs": [],
   "source": [
    "# We use the pdfplumber library to open the PDF and extract text from each page.\n",
    "import pdfplumber\n",
    "# re for regular expression for pattern matching\n",
    "import re \n",
    "import pandas as pd\n",
    "# Assigning file location\n",
    "invoice_file = r\"C:/Users/MANISH KUMAR/Desktop/Untitled Folder/Amazon_invoice2.pdf\""
   ]
  },
  {
   "cell_type": "code",
   "execution_count": 3,
   "id": "0a03e69b",
   "metadata": {},
   "outputs": [
    {
     "name": "stderr",
     "output_type": "stream",
     "text": [
      "CropBox missing from /Page, defaulting to MediaBox\n",
      "CropBox missing from /Page, defaulting to MediaBox\n"
     ]
    },
    {
     "data": {
      "text/plain": [
       "'Tax Invoice/Bill of Supply/Cash Memo\\n(Original for Recipient)\\nSold By : Billing Address :\\nDarshita Aashiyana Private Limited Motiyar biswas\\n* C/O Kuehne Nagel Pvt. Ltd., Dag No. 8-31, Dag 2044, sardar apartment,1st floor, Bansdroni,\\nNo. 414-425 L R, Khatian No. 871, 798, Badmatala,bharmapur near Jama masjid\\nMouza-Simla null Satghara, JL No. 17-18, Shimla, KOLKATA, WEST BENGAL, 700096\\nSreerampore IN\\nHooghly, West Bengal, 712203 State/UT Code: 19\\nIN\\nShipping Address :\\nPAN No: AAFCD6883Q Motiyar biswas\\nGST Registration No: 19AAFCD6883Q1ZN Motiyar biswas\\n2044, sardar apartment,1st floor, Bansdroni,\\nBadmatala,bharmapur near Jama masjid\\nKOLKATA, WEST BENGAL, 700096\\nIN\\nState/UT Code: 19\\nPlace of supply: WEST BENGAL\\nPlace of delivery: WEST BENGAL\\nOrder Number: 171-7406319-0663502 Invoice Number : SCCA-44440\\nOrder Date: 04.10.2019 Invoice Details : WB-SCCA-179184911-1920\\nInvoice Date : 04.10.2019\\nSl. Net Tax Tax Tax Total\\nDescription Unit Price Qty\\nNo Amount RateType Amount Amount\\n1 OnePlus 7 Pro (Nebula Blue, 8GB RAM, Fluid AMOLED\\nDisplay, 256GB Storage, 4000mAH Battery) | ₹43,749.10 1 ₹43,749.10 6% CGST ₹2,624.95 ₹48,999.00\\nB07HGJK535 ( OP7PRO-NBLUE-8-256GB )\\nHSN:8517\\n6% SGST ₹2,624.95\\nTOTAL: ₹5,249.90₹48,999.00\\nAmount in Words:\\nForty-eight Thousand Nine Hundred And Ninety-nine only\\nFor Darshita Aashiyana Private Limited:\\nAuthorized Signatory\\nWhether tax is payable under reverse charge - No\\n*ASSPL-Amazon Seller Services Pvt. Ltd., ARIPL-Amazon Retail India Pvt. Ltd. (only where Amazon Retail India Pvt. Ltd. fulfillment center is co-located)\\nCustomers desirous of availing input GST credit are requested to create a Business account and purchase on Amazon.in/business from Business eligible offers\\nPlease note that this invoice is not a demand for payment\\nPage 1 of 1'"
      ]
     },
     "execution_count": 3,
     "metadata": {},
     "output_type": "execute_result"
    }
   ],
   "source": [
    "# Extract raw data from pdf invoice\n",
    "\n",
    "with pdfplumber.open(invoice_file) as pdf:\n",
    "    page = pdf.pages[0]\n",
    "    text = page.extract_text()\n",
    "text"
   ]
  },
  {
   "cell_type": "code",
   "execution_count": 4,
   "id": "22a88686",
   "metadata": {},
   "outputs": [
    {
     "name": "stderr",
     "output_type": "stream",
     "text": [
      "CropBox missing from /Page, defaulting to MediaBox\n",
      "CropBox missing from /Page, defaulting to MediaBox\n"
     ]
    },
    {
     "name": "stdout",
     "output_type": "stream",
     "text": [
      "Tax Invoice/Bill of Supply/Cash Memo\n",
      "(Original for Recipient)\n",
      "Sold By : Billing Address :\n",
      "Darshita Aashiyana Private Limited Motiyar biswas\n",
      "* C/O Kuehne Nagel Pvt. Ltd., Dag No. 8-31, Dag 2044, sardar apartment,1st floor, Bansdroni,\n",
      "No. 414-425 L R, Khatian No. 871, 798, Badmatala,bharmapur near Jama masjid\n",
      "Mouza-Simla null Satghara, JL No. 17-18, Shimla, KOLKATA, WEST BENGAL, 700096\n",
      "Sreerampore IN\n",
      "Hooghly, West Bengal, 712203 State/UT Code: 19\n",
      "IN\n",
      "Shipping Address :\n",
      "PAN No: AAFCD6883Q Motiyar biswas\n",
      "GST Registration No: 19AAFCD6883Q1ZN Motiyar biswas\n",
      "2044, sardar apartment,1st floor, Bansdroni,\n",
      "Badmatala,bharmapur near Jama masjid\n",
      "KOLKATA, WEST BENGAL, 700096\n",
      "IN\n",
      "State/UT Code: 19\n",
      "Place of supply: WEST BENGAL\n",
      "Place of delivery: WEST BENGAL\n",
      "Order Number: 171-7406319-0663502 Invoice Number : SCCA-44440\n",
      "Order Date: 04.10.2019 Invoice Details : WB-SCCA-179184911-1920\n",
      "Invoice Date : 04.10.2019\n",
      "Sl. Net Tax Tax Tax Total\n",
      "Description Unit Price Qty\n",
      "No Amount RateType Amount Amount\n",
      "1 OnePlus 7 Pro (Nebula Blue, 8GB RAM, Fluid AMOLED\n",
      "Display, 256GB Storage, 4000mAH Battery) | ₹43,749.10 1 ₹43,749.10 6% CGST ₹2,624.95 ₹48,999.00\n",
      "B07HGJK535 ( OP7PRO-NBLUE-8-256GB )\n",
      "HSN:8517\n",
      "6% SGST ₹2,624.95\n",
      "TOTAL: ₹5,249.90₹48,999.00\n",
      "Amount in Words:\n",
      "Forty-eight Thousand Nine Hundred And Ninety-nine only\n",
      "For Darshita Aashiyana Private Limited:\n",
      "Authorized Signatory\n",
      "Whether tax is payable under reverse charge - No\n",
      "*ASSPL-Amazon Seller Services Pvt. Ltd., ARIPL-Amazon Retail India Pvt. Ltd. (only where Amazon Retail India Pvt. Ltd. fulfillment center is co-located)\n",
      "Customers desirous of availing input GST credit are requested to create a Business account and purchase on Amazon.in/business from Business eligible offers\n",
      "Please note that this invoice is not a demand for payment\n",
      "Page 1 of 1\n"
     ]
    }
   ],
   "source": [
    "# split lines end with \\\n",
    "# page.extract_text() extracts the raw text from each page\n",
    "\n",
    "with pdfplumber.open(invoice_file) as pdf:\n",
    "    page = pdf.pages[0]\n",
    "    text = page.extract_text()\n",
    "    for line in text.split('\\n'):\n",
    "        print(line)"
   ]
  },
  {
   "cell_type": "code",
   "execution_count": 5,
   "id": "1474a185",
   "metadata": {},
   "outputs": [
    {
     "name": "stdout",
     "output_type": "stream",
     "text": [
      "Tax Invoice/Bill of Supply/Cash Memo (Original for Recipient) Sold By : Billing Address : Darshita Aashiyana Private Limited Motiyar biswas * C/O Kuehne Nagel Pvt. Ltd., Dag No. 8-31, Dag 2044, sardar apartment,1st floor, Bansdroni, No. 414-425 L R, Khatian No. 871, 798, Badmatala,bharmapur near Jama masjid Mouza-Simla null Satghara, JL No. 17-18, Shimla, KOLKATA, WEST BENGAL, 700096 Sreerampore IN Hooghly, West Bengal, 712203 State/UT Code: 19 IN Shipping Address : PAN No: AAFCD6883Q Motiyar biswas GST Registration No: 19AAFCD6883Q1ZN Motiyar biswas 2044, sardar apartment,1st floor, Bansdroni, Badmatala,bharmapur near Jama masjid KOLKATA, WEST BENGAL, 700096 IN State/UT Code: 19 Place of supply: WEST BENGAL Place of delivery: WEST BENGAL Order Number: 171-7406319-0663502 Invoice Number : SCCA-44440 Order Date: 04.10.2019 Invoice Details : WB-SCCA-179184911-1920 Invoice Date : 04.10.2019 Sl. Net Tax Tax Tax Total Description Unit Price Qty No Amount RateType Amount Amount 1 OnePlus 7 Pro (Nebula Blue, 8GB RAM, Fluid AMOLED Display, 256GB Storage, 4000mAH Battery) | ₹43,749.10 1 ₹43,749.10 6% CGST ₹2,624.95 ₹48,999.00 B07HGJK535 ( OP7PRO-NBLUE-8-256GB ) HSN:8517 6% SGST ₹2,624.95 TOTAL: ₹5,249.90₹48,999.00 Amount in Words: Forty-eight Thousand Nine Hundred And Ninety-nine only For Darshita Aashiyana Private Limited: Authorized Signatory Whether tax is payable under reverse charge - No *ASSPL-Amazon Seller Services Pvt. Ltd., ARIPL-Amazon Retail India Pvt. Ltd. (only where Amazon Retail India Pvt. Ltd. fulfillment center is co-located) Customers desirous of availing input GST credit are requested to create a Business account and purchase on Amazon.in/business from Business eligible offers Please note that this invoice is not a demand for payment Page 1 of 1\n"
     ]
    }
   ],
   "source": [
    "# Normalize text: flatten newlines and multiple spaces\n",
    "normalized_text = ' '.join(text.split())\n",
    "print(normalized_text)"
   ]
  },
  {
   "cell_type": "markdown",
   "id": "759886f4",
   "metadata": {},
   "source": [
    "# Extracting all details one by one"
   ]
  },
  {
   "cell_type": "code",
   "execution_count": 6,
   "id": "4b23b7bb",
   "metadata": {},
   "outputs": [
    {
     "name": "stdout",
     "output_type": "stream",
     "text": [
      "Extracted Order Number    :     171-7406319-0663502\n"
     ]
    }
   ],
   "source": [
    "# Regular expression to extract Order Number\n",
    "match = re.search(r'Order\\s*Number\\s*:\\s*([\\d-]+)', text, re.IGNORECASE)\n",
    "Order_Number = match.group(1) if match else None\n",
    "\n",
    "print(\"Extracted Order Number    :    \", Order_Number)"
   ]
  },
  {
   "cell_type": "code",
   "execution_count": 7,
   "id": "326613cb",
   "metadata": {},
   "outputs": [
    {
     "name": "stdout",
     "output_type": "stream",
     "text": [
      "Extracted Invoice Number    :     SCCA-44440\n"
     ]
    }
   ],
   "source": [
    "# Regular expression to extract Invoice Number\n",
    "match = re.search(r'Invoice Number\\s*:\\s*([\\w-]+)', text, re.IGNORECASE)\n",
    "invoice_number = match.group(1) if match else None\n",
    "\n",
    "print(\"Extracted Invoice Number    :    \", invoice_number)"
   ]
  },
  {
   "cell_type": "code",
   "execution_count": 8,
   "id": "f73805db",
   "metadata": {},
   "outputs": [
    {
     "name": "stdout",
     "output_type": "stream",
     "text": [
      "Extracted Order Date    :     04.10.2019\n"
     ]
    }
   ],
   "source": [
    "# Regular expression to extract Order Date\n",
    "match = re.search(r'Order\\s*Date\\s*:\\s*([\\d./]+)', text, re.IGNORECASE)\n",
    "Order_Date = match.group(1) if match else None\n",
    "\n",
    "print(\"Extracted Order Date    :    \", Order_Date)"
   ]
  },
  {
   "cell_type": "code",
   "execution_count": 9,
   "id": "f1f2ac76",
   "metadata": {},
   "outputs": [
    {
     "name": "stdout",
     "output_type": "stream",
     "text": [
      "Extracted Invoice Date    :     04.10.2019\n"
     ]
    }
   ],
   "source": [
    "# Regular expression to extract Invoice Date\n",
    "match = re.search(r'Invoice\\s*Date\\s*:\\s*([\\d./]+)', text, re.IGNORECASE)\n",
    "Invoice_Date = match.group(1) if match else None\n",
    "\n",
    "print(\"Extracted Invoice Date    :    \", Invoice_Date)"
   ]
  },
  {
   "cell_type": "code",
   "execution_count": 10,
   "id": "ff2f1041",
   "metadata": {},
   "outputs": [
    {
     "name": "stdout",
     "output_type": "stream",
     "text": [
      "Extracted Invoice Details    :     WB-SCCA-179184911-1920\n"
     ]
    }
   ],
   "source": [
    "# Regular expression to extract Invoice Details\n",
    "match = re.search(r'Invoice\\s*Details\\s*:\\s*([A-Z0-9-]+)', text, re.IGNORECASE)\n",
    "Invoice_Details = match.group(1) if match else None\n",
    "\n",
    "print(\"Extracted Invoice Details    :    \", Invoice_Details)"
   ]
  },
  {
   "cell_type": "code",
   "execution_count": 11,
   "id": "d72623c6",
   "metadata": {},
   "outputs": [
    {
     "name": "stdout",
     "output_type": "stream",
     "text": [
      "Extracted PAN Number    :     AAFCD6883Q\n"
     ]
    }
   ],
   "source": [
    "# Regular expression to extract PAN Number\n",
    "match = re.search( r'PAN\\s*No\\s*:\\s*([A-Z0-9]+)', text, re.IGNORECASE)\n",
    "PAN_Number = match.group(1) if match else None\n",
    "\n",
    "print(\"Extracted PAN Number    :    \", PAN_Number)"
   ]
  },
  {
   "cell_type": "code",
   "execution_count": 12,
   "id": "cbdd311e",
   "metadata": {},
   "outputs": [
    {
     "name": "stdout",
     "output_type": "stream",
     "text": [
      "Extracted GST Number    :     19AAFCD6883Q1ZN\n"
     ]
    }
   ],
   "source": [
    "# Regular expression to extract GST Number\n",
    "match = re.search( r'GST\\s*Registration\\s*No\\s*:\\s*([A-Z0-9]+)', text, re.IGNORECASE)\n",
    "GST_Number = match.group(1) if match else None\n",
    "\n",
    "print(\"Extracted GST Number    :    \", GST_Number)"
   ]
  },
  {
   "cell_type": "code",
   "execution_count": 13,
   "id": "00055ab0",
   "metadata": {},
   "outputs": [
    {
     "name": "stdout",
     "output_type": "stream",
     "text": [
      "Extracted Amount in Words    :     Forty-eight Thousand Nine Hundred And Ninety-nine only\n"
     ]
    }
   ],
   "source": [
    "# Regular expression to extract Amount in Words\n",
    "match = re.search(r'Amount in Words:\\s*([A-Za-z\\s\\-]+only)', text, re.IGNORECASE)\n",
    "Amount_in_Words = match.group(1) if match else None\n",
    "\n",
    "print(\"Extracted Amount in Words    :    \", Amount_in_Words)"
   ]
  },
  {
   "cell_type": "code",
   "execution_count": 14,
   "id": "7113f1e0",
   "metadata": {},
   "outputs": [
    {
     "name": "stdout",
     "output_type": "stream",
     "text": [
      "Extracted Second Total Amount    :     48,999.00\n"
     ]
    }
   ],
   "source": [
    "match = re.search(r'TOTAL:\\s*₹?[\\d,]+\\.\\d{2}₹([\\d,]+\\.\\d{2})', text, re.IGNORECASE)\n",
    "\n",
    "# Extract second total amount if the match is found\n",
    "second_total_amount = match.group(1) if match else None\n",
    "\n",
    "# Output the extracted second Total Amount\n",
    "print(\"Extracted Second Total Amount    :    \", second_total_amount)"
   ]
  },
  {
   "cell_type": "code",
   "execution_count": 20,
   "id": "a7a86745",
   "metadata": {},
   "outputs": [
    {
     "name": "stdout",
     "output_type": "stream",
     "text": [
      " Billing Address :\n",
      "Darshita Aashiyana Private Limited Motiyar biswas\n",
      "* C/O Kuehne Nagel Pvt. Ltd., Dag No. 8-31, Dag 2044, sardar apartment,1st floor, Bansdroni,\n",
      "No. 414-425 L R, Khatian No. 871, 798, Badmatala,bharmapur near Jama masjid\n",
      "Mouza-Simla null Satghara, JL No. 17-18, Shimla, KOLKATA, WEST BENGAL, 700096\n",
      "Sreerampore IN\n",
      "Hooghly, West Bengal, 712203 State/UT Code: 19\n",
      "IN\n",
      "\n"
     ]
    }
   ],
   "source": [
    "# Regular expression to extract Billing Address\n",
    "match = re.search( r'Sold By\\s*:(.*?)Shipping Address', text, re.DOTALL |  re.IGNORECASE)\n",
    "Billing_Address = match.group(1) if match else None\n",
    "\n",
    "print(Billing_Address)"
   ]
  },
  {
   "cell_type": "code",
   "execution_count": 21,
   "id": "035aecd7",
   "metadata": {},
   "outputs": [
    {
     "name": "stdout",
     "output_type": "stream",
     "text": [
      "Shipping Address:\n",
      " Motiyar biswas Motiyar biswas 2044, sardar apartment,1st floor, Bansdroni, Badmatala,bharmapur near Jama masjid KOLKATA, WEST BENGAL, 700096 IN State/UT Code: 19 Place of supply: WEST BENGAL Place of delivery: WEST BENGAL\n"
     ]
    }
   ],
   "source": [
    "# Extract block between \"Shipping Address :\" and \"Order Number\"\n",
    "shipping_match = re.search(r\"Shipping Address\\s*:(.*?)Order Number\", text, re.DOTALL | re.IGNORECASE)\n",
    "shipping_block = shipping_match.group(1).strip() if shipping_match else \" \"\n",
    "\n",
    "# Remove PAN and GST numbers only (but preserve other text like names)\n",
    "shipping_block = re.sub(r'PAN No:\\s*\\w+\\s*', '', shipping_block)\n",
    "shipping_block = re.sub(r'GST Registration No:\\s*\\w+\\s*', '', shipping_block)\n",
    "\n",
    "# Clean up extra spaces\n",
    "shipping_address_cleaned = ' '.join(shipping_block.split())\n",
    "print(\"Shipping Address:\\n\", shipping_address_cleaned)"
   ]
  },
  {
   "cell_type": "code",
   "execution_count": 22,
   "id": "08079673",
   "metadata": {},
   "outputs": [
    {
     "name": "stdout",
     "output_type": "stream",
     "text": [
      "Extracted Product_Details    :     OnePlus 7 Pro (Nebula Blue, 8GB RAM, Fluid AMOLED Display, 256GB Storage, 4000mAH Battery)\n"
     ]
    }
   ],
   "source": [
    "# Isolate the product section\n",
    "product_section_match = re.search(r'(Sl\\..*?)(Amount in Words:)', text, re.DOTALL)\n",
    "product_section = product_section_match.group(1) if product_section_match else \"\"\n",
    "# Normalize whitespace\n",
    "product_section_cleaned = ' '.join(product_section.split())\n",
    "\n",
    "#Extract the product description before the first pipe \"|\"\n",
    "product_match = re.search(r'\\d+\\s+(.*?)\\s+\\|', product_section_cleaned)\n",
    "product_details = product_match.group(1).strip() if product_match else None\n",
    "\n",
    "# Output\n",
    "print(\"Extracted Product_Details    :    \", product_details)"
   ]
  },
  {
   "cell_type": "markdown",
   "id": "0c8e8b72",
   "metadata": {},
   "source": [
    "# Extracting all details by one hard incoding"
   ]
  },
  {
   "cell_type": "code",
   "execution_count": 29,
   "id": "0caa0036",
   "metadata": {
    "scrolled": true
   },
   "outputs": [
    {
     "name": "stdout",
     "output_type": "stream",
     "text": [
      "Extracted Shipping Address:\n",
      " Motiyar biswas Motiyar biswas 2044, sardar apartment,1st floor, Bansdroni, Badmatala,bharmapur near Jama masjid KOLKATA, WEST BENGAL, 700096 IN State/UT Code: 19 Place of supply: WEST BENGAL Place of delivery: WEST BENGAL\n",
      "Extracted Billing Address    :     \n",
      "Darshita Aashiyana Private Limited Motiyar biswas\n",
      "* C/O Kuehne Nagel Pvt. Ltd., Dag No. 8-31, Dag 2044, sardar apartment,1st floor, Bansdroni,\n",
      "No. 414-425 L R, Khatian No. 871, 798, Badmatala,bharmapur near Jama masjid\n",
      "Mouza-Simla null Satghara, JL No. 17-18, Shimla, KOLKATA, WEST BENGAL, 700096\n",
      "Sreerampore IN\n",
      "Hooghly, West Bengal, 712203 State/UT Code: 19\n",
      "IN\n",
      "\n",
      "Extracted Product_Details    :     OnePlus 7 Pro (Nebula Blue, 8GB RAM, Fluid AMOLED Display, 256GB Storage, 4000mAH Battery)\n",
      "Data saved to 'Amazon_invoice2_data_extracted.xlsx'\n"
     ]
    }
   ],
   "source": [
    "normalized = ' '.join(text.split())\n",
    "\n",
    "# Patterns for extraction\n",
    "patterns = {\n",
    "    \"Order Number\": r\"Order\\s*Number\\s*:\\s*([\\d-]+)\",\n",
    "    \"Invoice Number\": r\"Invoice\\s*Number\\s*:\\s*([A-Z0-9-]+)\",\n",
    "    \"Order Date\": r\"Order\\s*Date\\s*:\\s*([\\d./]+)\",\n",
    "    \"Invoice Date\": r\"Invoice\\s*Date\\s*:\\s*([\\d./]+)\",\n",
    "    \"Invoice Details\": r\"Invoice\\s*Details\\s*:\\s*([A-Z0-9-]+)\",\n",
    "    \"PAN Number\": r\"PAN\\s*No\\s*:\\s*([A-Z0-9]+)\",\n",
    "    \"GST Number\": r\"GST\\s*Registration\\s*No\\s*:\\s*([A-Z0-9]+)\",\n",
    "    \"Amount in Words\": r\"Amount in Words:\\s*([A-Za-z\\s\\-]+only)\",\n",
    "    \"Total Amount\": r\"TOTAL:\\s*₹?[\\d,]+\\.\\d{2}₹([\\d,]+\\.\\d{2})\"\n",
    "}\n",
    "\n",
    "# Extract patterns\n",
    "results = {}\n",
    "for key, pattern in patterns.items():\n",
    "    match = re.search(pattern, normalized, re.IGNORECASE)\n",
    "    results[key] = match.group(1) if match else \"Not found\"\n",
    "    \n",
    "# Extract block between \"Shipping Address :\" and \"Order Number\"\n",
    "shipping_match = re.search(r\"Shipping Address\\s*:(.*?)Order Number\", text, re.DOTALL | re.IGNORECASE)\n",
    "shipping_block = shipping_match.group(1).strip() if shipping_match else \" \"\n",
    "\n",
    "# Remove PAN and GST numbers only (but preserve other text like names)\n",
    "shipping_block = re.sub(r'PAN No:\\s*\\w+\\s*', '', shipping_block)\n",
    "shipping_block = re.sub(r'GST Registration No:\\s*\\w+\\s*', '', shipping_block)\n",
    "\n",
    "# Clean up extra spaces\n",
    "shipping_address_cleaned = ' '.join(shipping_block.split())\n",
    "print(\"Extracted Shipping Address:\\n\", shipping_address_cleaned)\n",
    "    \n",
    "# Regular expression to extract Billing Address\n",
    "match = re.search( r'Billing Address\\s*:(.*?)Shipping Address', text, re.DOTALL |  re.IGNORECASE)\n",
    "Billing_Address = match.group(1) if match else None\n",
    "\n",
    "print(\"Extracted Billing Address    :    \", Billing_Address)    \n",
    "    \n",
    "# Isolate the product section\n",
    "product_section_match = re.search(r'(Sl\\..*?)(Amount in Words:)', text, re.DOTALL)\n",
    "product_section = product_section_match.group(1) if product_section_match else \"\"\n",
    "# Normalize whitespace\n",
    "product_section_cleaned = ' '.join(product_section.split())\n",
    "\n",
    "#Extract the product description before the first pipe \"|\"\n",
    "product_match = re.search(r'\\d+\\s+(.*?)\\s+\\|', product_section_cleaned)\n",
    "product_details = product_match.group(1).strip() if product_match else None\n",
    "\n",
    "print(\"Extracted Product_Details    :    \", product_details)   \n",
    "\n",
    "# Add addresses and product details to results\n",
    "results[\"Billing Address\"] = billing_address\n",
    "results[\"Shipping Address\"] = shipping_address_cleaned\n",
    "results[\"Product Details\"] = product_details\n",
    "    \n",
    "df = pd.DataFrame(list(results.items()), columns=[\"Field\", \"Detail\"])\n",
    "\n",
    "# Save to Excel\n",
    "df.to_excel(\"Amazon_invoice2_data_extracted.xlsx\", index=False, engine='openpyxl')\n",
    "\n",
    "print(\"Data saved to 'Amazon_invoice2_data_extracted.xlsx'\")   \n"
   ]
  },
  {
   "cell_type": "markdown",
   "id": "cc3973f0",
   "metadata": {},
   "source": [
    "# All details are in excel file here printed only Product_Details, Shipping Address and Billing Address"
   ]
  },
  {
   "cell_type": "code",
   "execution_count": null,
   "id": "8b754418",
   "metadata": {},
   "outputs": [],
   "source": []
  }
 ],
 "metadata": {
  "kernelspec": {
   "display_name": "Python 3 (ipykernel)",
   "language": "python",
   "name": "python3"
  },
  "language_info": {
   "codemirror_mode": {
    "name": "ipython",
    "version": 3
   },
   "file_extension": ".py",
   "mimetype": "text/x-python",
   "name": "python",
   "nbconvert_exporter": "python",
   "pygments_lexer": "ipython3",
   "version": "3.9.13"
  }
 },
 "nbformat": 4,
 "nbformat_minor": 5
}
