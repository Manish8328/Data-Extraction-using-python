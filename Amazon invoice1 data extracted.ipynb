{
 "cells": [
  {
   "cell_type": "code",
   "execution_count": 2,
   "id": "fc802657",
   "metadata": {},
   "outputs": [],
   "source": [
    "# We use the pdfplumber library to open the PDF and extract text from each page.\n",
    "import pdfplumber\n",
    "# re for regular expression for pattern matching\n",
    "import re \n",
    "import pandas as pd\n",
    "# Assigning file location\n",
    "invoice_file = r\"C:/Users/MANISH KUMAR/Desktop/Untitled Folder/Amazon_invoice1.pdf\""
   ]
  },
  {
   "cell_type": "code",
   "execution_count": 3,
   "id": "36223367",
   "metadata": {},
   "outputs": [
    {
     "name": "stderr",
     "output_type": "stream",
     "text": [
      "CropBox missing from /Page, defaulting to MediaBox\n",
      "CropBox missing from /Page, defaulting to MediaBox\n"
     ]
    },
    {
     "data": {
      "text/plain": [
       "'Tax Invoice/Bill of Supply/Cash Memo\\n(Original for Recipient)\\nSold By : Billing Address :\\nDarshita Aashiyana Private Limited karthik\\n* Unit No. 1, Khewat/ Khata No: 373/ 400 Mustatil C1001 ace city, sector1\\nNo 31,, Village Taoru, Tehsil Taoru, District GREATER NOIDA, UTTAR PRADESH, 201306\\nMewat,, On Bilaspur Taoru Road IN\\nMewat, Haryana, 122105\\nIN\\nShipping Address :\\nkarthik\\nPAN No: AAFCD6883Q karthik\\nC1001 ace city, sector1\\nGST Registration No: 06AAFCD6883Q1ZU\\nGREATER NOIDA, UTTAR PRADESH, 201306\\nIN\\nOrder Number: 407-8153595-7245952 Invoice Number : DEL2-68786\\nOrder Date: 10.08.2019 Invoice Details : HR-DEL2-179184911-1920\\nInvoice Date : 10.08.2019\\nSl. Net Tax Tax Tax Total\\nDescription Unit Price Qty\\nNo Amount RateTypeAmount Amount\\n1 OnePlus 7 (Mirror Blue, 6GB RAM, 128GB Storage) |\\nB07HGMLBW1 ( OP7-NBLUE-6-128GB ) ₹29,463.39 1 ₹29,463.39 12% IGST ₹3,535.61 ₹32,999.00\\nHSN:8517\\nTOTAL: ₹3,535.61₹32,999.00\\nAmount in Words:\\nThirty-two Thousand Nine Hundred And Ninety-nine only\\nFor Darshita Aashiyana Private Limited:\\nAuthorized Signatory\\n*ASSPL-Amazon Seller Services Pvt. Ltd., ARIPL-Amazon Retail India Pvt. Ltd. (only where Amazon Retail India Pvt. Ltd. fulfillment center is co-located)\\nCustomers desirous of availing input GST credit are requested to create a Business account and purchase on Amazon.in/business from Business eligible offers\\nPlease note that this invoice is not a demand for payment\\nPage 1 of 1'"
      ]
     },
     "execution_count": 3,
     "metadata": {},
     "output_type": "execute_result"
    }
   ],
   "source": [
    "# Extract raw data from pdf invoice\n",
    "\n",
    "with pdfplumber.open(invoice_file) as pdf:\n",
    "    page = pdf.pages[0]\n",
    "    text = page.extract_text()\n",
    "text"
   ]
  },
  {
   "cell_type": "code",
   "execution_count": 4,
   "id": "7644867a",
   "metadata": {},
   "outputs": [
    {
     "name": "stderr",
     "output_type": "stream",
     "text": [
      "CropBox missing from /Page, defaulting to MediaBox\n",
      "CropBox missing from /Page, defaulting to MediaBox\n"
     ]
    },
    {
     "name": "stdout",
     "output_type": "stream",
     "text": [
      "Tax Invoice/Bill of Supply/Cash Memo\n",
      "(Original for Recipient)\n",
      "Sold By : Billing Address :\n",
      "Darshita Aashiyana Private Limited karthik\n",
      "* Unit No. 1, Khewat/ Khata No: 373/ 400 Mustatil C1001 ace city, sector1\n",
      "No 31,, Village Taoru, Tehsil Taoru, District GREATER NOIDA, UTTAR PRADESH, 201306\n",
      "Mewat,, On Bilaspur Taoru Road IN\n",
      "Mewat, Haryana, 122105\n",
      "IN\n",
      "Shipping Address :\n",
      "karthik\n",
      "PAN No: AAFCD6883Q karthik\n",
      "C1001 ace city, sector1\n",
      "GST Registration No: 06AAFCD6883Q1ZU\n",
      "GREATER NOIDA, UTTAR PRADESH, 201306\n",
      "IN\n",
      "Order Number: 407-8153595-7245952 Invoice Number : DEL2-68786\n",
      "Order Date: 10.08.2019 Invoice Details : HR-DEL2-179184911-1920\n",
      "Invoice Date : 10.08.2019\n",
      "Sl. Net Tax Tax Tax Total\n",
      "Description Unit Price Qty\n",
      "No Amount RateTypeAmount Amount\n",
      "1 OnePlus 7 (Mirror Blue, 6GB RAM, 128GB Storage) |\n",
      "B07HGMLBW1 ( OP7-NBLUE-6-128GB ) ₹29,463.39 1 ₹29,463.39 12% IGST ₹3,535.61 ₹32,999.00\n",
      "HSN:8517\n",
      "TOTAL: ₹3,535.61₹32,999.00\n",
      "Amount in Words:\n",
      "Thirty-two Thousand Nine Hundred And Ninety-nine only\n",
      "For Darshita Aashiyana Private Limited:\n",
      "Authorized Signatory\n",
      "*ASSPL-Amazon Seller Services Pvt. Ltd., ARIPL-Amazon Retail India Pvt. Ltd. (only where Amazon Retail India Pvt. Ltd. fulfillment center is co-located)\n",
      "Customers desirous of availing input GST credit are requested to create a Business account and purchase on Amazon.in/business from Business eligible offers\n",
      "Please note that this invoice is not a demand for payment\n",
      "Page 1 of 1\n"
     ]
    }
   ],
   "source": [
    "# split lines end with \\\n",
    "# page.extract_text() extracts the raw text from each page\n",
    "\n",
    "with pdfplumber.open(invoice_file) as pdf:\n",
    "    page = pdf.pages[0]\n",
    "    text = page.extract_text()\n",
    "    for line in text.split('\\n'):\n",
    "        print(line)\n",
    "    "
   ]
  },
  {
   "cell_type": "code",
   "execution_count": 5,
   "id": "f9f6e9e2",
   "metadata": {},
   "outputs": [
    {
     "name": "stdout",
     "output_type": "stream",
     "text": [
      "Tax Invoice/Bill of Supply/Cash Memo (Original for Recipient) Sold By : Billing Address : Darshita Aashiyana Private Limited karthik * Unit No. 1, Khewat/ Khata No: 373/ 400 Mustatil C1001 ace city, sector1 No 31,, Village Taoru, Tehsil Taoru, District GREATER NOIDA, UTTAR PRADESH, 201306 Mewat,, On Bilaspur Taoru Road IN Mewat, Haryana, 122105 IN Shipping Address : karthik PAN No: AAFCD6883Q karthik C1001 ace city, sector1 GST Registration No: 06AAFCD6883Q1ZU GREATER NOIDA, UTTAR PRADESH, 201306 IN Order Number: 407-8153595-7245952 Invoice Number : DEL2-68786 Order Date: 10.08.2019 Invoice Details : HR-DEL2-179184911-1920 Invoice Date : 10.08.2019 Sl. Net Tax Tax Tax Total Description Unit Price Qty No Amount RateTypeAmount Amount 1 OnePlus 7 (Mirror Blue, 6GB RAM, 128GB Storage) | B07HGMLBW1 ( OP7-NBLUE-6-128GB ) ₹29,463.39 1 ₹29,463.39 12% IGST ₹3,535.61 ₹32,999.00 HSN:8517 TOTAL: ₹3,535.61₹32,999.00 Amount in Words: Thirty-two Thousand Nine Hundred And Ninety-nine only For Darshita Aashiyana Private Limited: Authorized Signatory *ASSPL-Amazon Seller Services Pvt. Ltd., ARIPL-Amazon Retail India Pvt. Ltd. (only where Amazon Retail India Pvt. Ltd. fulfillment center is co-located) Customers desirous of availing input GST credit are requested to create a Business account and purchase on Amazon.in/business from Business eligible offers Please note that this invoice is not a demand for payment Page 1 of 1\n"
     ]
    }
   ],
   "source": [
    "# Normalize text: flatten newlines and multiple spaces\n",
    "normalized_text = ' '.join(text.split())\n",
    "print(normalized_text)"
   ]
  },
  {
   "cell_type": "markdown",
   "id": "ad51393d",
   "metadata": {},
   "source": [
    "# Extracting all details one by one"
   ]
  },
  {
   "cell_type": "code",
   "execution_count": 6,
   "id": "e45663b4",
   "metadata": {},
   "outputs": [
    {
     "name": "stdout",
     "output_type": "stream",
     "text": [
      "Extracted Order Number    :     407-8153595-7245952\n"
     ]
    }
   ],
   "source": [
    "# Regular expression to extract Order Number\n",
    "match = re.search(r'Order\\s*Number\\s*:\\s*([\\d-]+)', text, re.IGNORECASE)\n",
    "Order_Number = match.group(1) if match else None\n",
    "\n",
    "print(\"Extracted Order Number    :    \", Order_Number)"
   ]
  },
  {
   "cell_type": "code",
   "execution_count": 7,
   "id": "1d006f0e",
   "metadata": {},
   "outputs": [
    {
     "name": "stdout",
     "output_type": "stream",
     "text": [
      "Extracted Invoice Number    :     DEL2-68786\n"
     ]
    }
   ],
   "source": [
    "# Regular expression to extract Invoice Number\n",
    "match = re.search(r'Invoice Number\\s*:\\s*([\\w-]+)', text, re.IGNORECASE)\n",
    "invoice_number = match.group(1) if match else None\n",
    "\n",
    "print(\"Extracted Invoice Number    :    \", invoice_number)"
   ]
  },
  {
   "cell_type": "code",
   "execution_count": 8,
   "id": "56e7c649",
   "metadata": {},
   "outputs": [
    {
     "name": "stdout",
     "output_type": "stream",
     "text": [
      "Extracted Order Date    :     10.08.2019\n"
     ]
    }
   ],
   "source": [
    "# Regular expression to extract Order Date\n",
    "match = re.search(r'Order\\s*Date\\s*:\\s*([\\d./]+)', text, re.IGNORECASE)\n",
    "Order_Date = match.group(1) if match else None\n",
    "\n",
    "print(\"Extracted Order Date    :    \", Order_Date)"
   ]
  },
  {
   "cell_type": "code",
   "execution_count": 9,
   "id": "70fbad0d",
   "metadata": {},
   "outputs": [
    {
     "name": "stdout",
     "output_type": "stream",
     "text": [
      "Extracted Invoice Date    :     10.08.2019\n"
     ]
    }
   ],
   "source": [
    "# Regular expression to extract Invoice Date\n",
    "match = re.search(r'Invoice\\s*Date\\s*:\\s*([\\d./]+)', text, re.IGNORECASE)\n",
    "Invoice_Date = match.group(1) if match else None\n",
    "\n",
    "print(\"Extracted Invoice Date    :    \", Invoice_Date)"
   ]
  },
  {
   "cell_type": "code",
   "execution_count": 10,
   "id": "5a111bcf",
   "metadata": {},
   "outputs": [
    {
     "name": "stdout",
     "output_type": "stream",
     "text": [
      "Extracted Invoice Details    :     HR-DEL2-179184911-1920\n"
     ]
    }
   ],
   "source": [
    "# Regular expression to extract Invoice Details\n",
    "match = re.search(r'Invoice\\s*Details\\s*:\\s*([A-Z0-9-]+)', text, re.IGNORECASE)\n",
    "Invoice_Details = match.group(1) if match else None\n",
    "\n",
    "print(\"Extracted Invoice Details    :    \", Invoice_Details)"
   ]
  },
  {
   "cell_type": "code",
   "execution_count": 11,
   "id": "1a728b54",
   "metadata": {},
   "outputs": [
    {
     "name": "stdout",
     "output_type": "stream",
     "text": [
      "Extracted PAN Number    :     AAFCD6883Q\n"
     ]
    }
   ],
   "source": [
    "# Regular expression to extract PAN Number\n",
    "match = re.search( r'PAN\\s*No\\s*:\\s*([A-Z0-9]+)', text, re.IGNORECASE)\n",
    "PAN_Number = match.group(1) if match else None\n",
    "\n",
    "print(\"Extracted PAN Number    :    \", PAN_Number)"
   ]
  },
  {
   "cell_type": "code",
   "execution_count": 12,
   "id": "00b96aac",
   "metadata": {},
   "outputs": [
    {
     "name": "stdout",
     "output_type": "stream",
     "text": [
      "Extracted GST Number    :     06AAFCD6883Q1ZU\n"
     ]
    }
   ],
   "source": [
    "# Regular expression to extract GST Number\n",
    "match = re.search( r'GST\\s*Registration\\s*No\\s*:\\s*([A-Z0-9]+)', text, re.IGNORECASE)\n",
    "GST_Number = match.group(1) if match else None\n",
    "\n",
    "print(\"Extracted GST Number    :    \", GST_Number)"
   ]
  },
  {
   "cell_type": "code",
   "execution_count": 13,
   "id": "9a625b3c",
   "metadata": {},
   "outputs": [
    {
     "name": "stdout",
     "output_type": "stream",
     "text": [
      "Extracted Amount in Words    :     Thirty-two Thousand Nine Hundred And Ninety-nine only\n"
     ]
    }
   ],
   "source": [
    "# Regular expression to extract Amount in Words\n",
    "match = re.search(r'Amount in Words:\\s*([A-Za-z\\s\\-]+only)', text, re.IGNORECASE)\n",
    "Amount_in_Words = match.group(1) if match else None\n",
    "\n",
    "print(\"Extracted Amount in Words    :    \", Amount_in_Words)"
   ]
  },
  {
   "cell_type": "code",
   "execution_count": 14,
   "id": "20b04ad3",
   "metadata": {},
   "outputs": [
    {
     "name": "stdout",
     "output_type": "stream",
     "text": [
      "Extracted Total Amount    :     32,999.00\n"
     ]
    }
   ],
   "source": [
    "match = re.search(r'TOTAL:\\s*₹?[\\d,]+\\.\\d{2}₹([\\d,]+\\.\\d{2})', text, re.IGNORECASE)\n",
    "\n",
    "# Extract Total_amount if the match is found\n",
    "Total_amount = match.group(1) if match else None\n",
    "\n",
    "# Output the extracted second Total Amount\n",
    "print(\"Extracted Total Amount    :    \", Total_amount)"
   ]
  },
  {
   "cell_type": "code",
   "execution_count": 15,
   "id": "c8849e00",
   "metadata": {},
   "outputs": [
    {
     "name": "stdout",
     "output_type": "stream",
     "text": [
      "Extracted Billing Address    :     \n",
      "Darshita Aashiyana Private Limited karthik\n",
      "* Unit No. 1, Khewat/ Khata No: 373/ 400 Mustatil C1001 ace city, sector1\n",
      "No 31,, Village Taoru, Tehsil Taoru, District GREATER NOIDA, UTTAR PRADESH, 201306\n",
      "Mewat,, On Bilaspur Taoru Road IN\n",
      "Mewat, Haryana, 122105\n",
      "IN\n",
      "\n"
     ]
    }
   ],
   "source": [
    "# Regular expression to extract Billing Address\n",
    "match = re.search( r'Billing Address\\s*:(.*?)Shipping Address', text, re.DOTALL |  re.IGNORECASE)\n",
    "Billing_Address = match.group(1) if match else None\n",
    "\n",
    "print(\"Extracted Billing Address    :    \", Billing_Address)"
   ]
  },
  {
   "cell_type": "code",
   "execution_count": 16,
   "id": "70f66d22",
   "metadata": {},
   "outputs": [
    {
     "name": "stdout",
     "output_type": "stream",
     "text": [
      "Shipping Address:\n",
      " karthik karthik C1001 ace city, sector1 GREATER NOIDA, UTTAR PRADESH, 201306 IN\n"
     ]
    }
   ],
   "source": [
    "# Extract block between \"Shipping Address :\" and \"Order Number\"\n",
    "shipping_match = re.search(r\"Shipping Address\\s*:(.*?)Order Number\", text, re.DOTALL | re.IGNORECASE)\n",
    "shipping_block = shipping_match.group(1).strip() if shipping_match else \" \"\n",
    "\n",
    "# Remove PAN and GST numbers only (but preserve other text like names)\n",
    "shipping_block = re.sub(r'PAN No:\\s*\\w+\\s*', '', shipping_block)\n",
    "shipping_block = re.sub(r'GST Registration No:\\s*\\w+\\s*', '', shipping_block)\n",
    "\n",
    "# Clean up extra spaces\n",
    "shipping_address_cleaned = ' '.join(shipping_block.split())\n",
    "print(\"Shipping Address:\\n\", shipping_address_cleaned)"
   ]
  },
  {
   "cell_type": "code",
   "execution_count": 17,
   "id": "4fcb498d",
   "metadata": {},
   "outputs": [
    {
     "name": "stdout",
     "output_type": "stream",
     "text": [
      "Extracted Product_Details    :     OnePlus 7 (Mirror Blue, 6GB RAM, 128GB Storage)\n"
     ]
    }
   ],
   "source": [
    "# Regular expression to extract Product Details\n",
    "match = re.search( r'\\d+\\s+(.+?)\\s*\\|\\s*B07', text)\n",
    "Product_Details = match.group(1) if match else None\n",
    "\n",
    "print(\"Extracted Product_Details    :    \", Product_Details)"
   ]
  },
  {
   "cell_type": "markdown",
   "id": "c40a6953",
   "metadata": {},
   "source": [
    "# Extracting all details by one hard incoding"
   ]
  },
  {
   "cell_type": "code",
   "execution_count": 25,
   "id": "6884b3d8",
   "metadata": {},
   "outputs": [
    {
     "name": "stdout",
     "output_type": "stream",
     "text": [
      "Extracted Shipping Address:\n",
      " karthik karthik C1001 ace city, sector1 GREATER NOIDA, UTTAR PRADESH, 201306 IN\n",
      "Extracted Billing Address    :     \n",
      "Darshita Aashiyana Private Limited karthik\n",
      "* Unit No. 1, Khewat/ Khata No: 373/ 400 Mustatil C1001 ace city, sector1\n",
      "No 31,, Village Taoru, Tehsil Taoru, District GREATER NOIDA, UTTAR PRADESH, 201306\n",
      "Mewat,, On Bilaspur Taoru Road IN\n",
      "Mewat, Haryana, 122105\n",
      "IN\n",
      "\n",
      "Extracted Product_Details    :     OnePlus 7 (Mirror Blue, 6GB RAM, 128GB Storage)\n",
      "Data saved to 'Amazon_invoice1_data_extracted.xlsx'\n"
     ]
    }
   ],
   "source": [
    "normalized = ' '.join(text.split())\n",
    "\n",
    "# Patterns for extraction\n",
    "patterns = {\n",
    "    \"Order Number\": r\"Order\\s*Number\\s*:\\s*([\\d-]+)\",\n",
    "    \"Invoice Number\": r\"Invoice\\s*Number\\s*:\\s*([A-Z0-9-]+)\",\n",
    "    \"Order Date\": r\"Order\\s*Date\\s*:\\s*([\\d./]+)\",\n",
    "    \"Invoice Date\": r\"Invoice\\s*Date\\s*:\\s*([\\d./]+)\",\n",
    "    \"Invoice Details\": r\"Invoice\\s*Details\\s*:\\s*([A-Z0-9-]+)\",\n",
    "    \"PAN Number\": r\"PAN\\s*No\\s*:\\s*([A-Z0-9]+)\",\n",
    "    \"GST Number\": r\"GST\\s*Registration\\s*No\\s*:\\s*([A-Z0-9]+)\",\n",
    "    \"Amount in Words\": r\"Amount in Words:\\s*([A-Za-z\\s\\-]+only)\",\n",
    "    \"Total Amount\": r\"TOTAL:\\s*₹?[\\d,]+\\.\\d{2}₹([\\d,]+\\.\\d{2})\"\n",
    "}\n",
    "\n",
    "# Extract patterns\n",
    "results = {}\n",
    "for key, pattern in patterns.items():\n",
    "    match = re.search(pattern, normalized, re.IGNORECASE)\n",
    "    results[key] = match.group(1) if match else \"Not found\"\n",
    "    \n",
    "# Extract block between \"Shipping Address :\" and \"Order Number\"\n",
    "shipping_match = re.search(r\"Shipping Address\\s*:(.*?)Order Number\", text, re.DOTALL | re.IGNORECASE)\n",
    "shipping_block = shipping_match.group(1).strip() if shipping_match else \" \"\n",
    "\n",
    "# Remove PAN and GST numbers only (but preserve other text like names)\n",
    "shipping_block = re.sub(r'PAN No:\\s*\\w+\\s*', '', shipping_block)\n",
    "shipping_block = re.sub(r'GST Registration No:\\s*\\w+\\s*', '', shipping_block)\n",
    "\n",
    "# Clean up extra spaces\n",
    "shipping_address_cleaned = ' '.join(shipping_block.split())\n",
    "print(\"Extracted Shipping Address:\\n\", shipping_address_cleaned)\n",
    "    \n",
    "# Regular expression to extract Billing Address\n",
    "match = re.search( r'Billing Address\\s*:(.*?)Shipping Address', text, re.DOTALL |  re.IGNORECASE)\n",
    "Billing_Address = match.group(1) if match else None\n",
    "\n",
    "print(\"Extracted Billing Address    :    \", Billing_Address)    \n",
    "    \n",
    "# Isolate the product section\n",
    "product_section_match = re.search(r'(Sl\\..*?)(Amount in Words:)', text, re.DOTALL)\n",
    "product_section = product_section_match.group(1) if product_section_match else \"\"\n",
    "# Normalize whitespace\n",
    "product_section_cleaned = ' '.join(product_section.split())\n",
    "\n",
    "#Extract the product description before the first pipe \"|\"\n",
    "product_match = re.search(r'\\d+\\s+(.*?)\\s+\\|', product_section_cleaned)\n",
    "product_details = product_match.group(1).strip() if product_match else None\n",
    "\n",
    "print(\"Extracted Product_Details    :    \", product_details)   \n",
    "\n",
    "# Add addresses and product details to results\n",
    "results[\"Billing Address\"] = Billing_Address\n",
    "results[\"Shipping Address\"] = shipping_address_cleaned\n",
    "results[\"Product Details\"] = product_details\n",
    "    \n",
    "df = pd.DataFrame(list(results.items()), columns=[\"Field\", \"Detail\"])\n",
    "\n",
    "# Save to Excel\n",
    "df.to_excel(\"Amazon_invoice1_data_extracted.xlsx\", index=False, engine='openpyxl')\n",
    "\n",
    "print(\"Data saved to 'Amazon_invoice1_data_extracted.xlsx'\")   \n"
   ]
  },
  {
   "cell_type": "markdown",
   "id": "39149a6e",
   "metadata": {},
   "source": [
    "# All details are in excel file here printed only Product_Details, Shipping Address and Billing Address"
   ]
  },
  {
   "cell_type": "code",
   "execution_count": null,
   "id": "277577db",
   "metadata": {},
   "outputs": [],
   "source": []
  }
 ],
 "metadata": {
  "kernelspec": {
   "display_name": "Python 3 (ipykernel)",
   "language": "python",
   "name": "python3"
  },
  "language_info": {
   "codemirror_mode": {
    "name": "ipython",
    "version": 3
   },
   "file_extension": ".py",
   "mimetype": "text/x-python",
   "name": "python",
   "nbconvert_exporter": "python",
   "pygments_lexer": "ipython3",
   "version": "3.9.13"
  }
 },
 "nbformat": 4,
 "nbformat_minor": 5
}
