{
 "cells": [
  {
   "cell_type": "code",
   "execution_count": 2,
   "id": "18a17ed3",
   "metadata": {},
   "outputs": [],
   "source": [
    "# We use the pdfplumber library to open the PDF and extract text from each page.\n",
    "import pdfplumber\n",
    "# re for regular expression for pattern matching\n",
    "import re \n",
    "import pandas as pd\n",
    "# Assigning file location\n",
    "invoice_file = r\"C:/Users/MANISH KUMAR/Desktop/Untitled Folder/Amazon_invoice4.pdf\""
   ]
  },
  {
   "cell_type": "code",
   "execution_count": 3,
   "id": "eb1eae82",
   "metadata": {},
   "outputs": [
    {
     "name": "stderr",
     "output_type": "stream",
     "text": [
      "CropBox missing from /Page, defaulting to MediaBox\n",
      "CropBox missing from /Page, defaulting to MediaBox\n"
     ]
    },
    {
     "data": {
      "text/plain": [
       "'Tax Invoice/Bill of Supply/Cash Memo\\n(Original for Recipient)\\nSold By : Billing Address :\\nCAMBIUM RETAIL PRIVATE LIMITED sakthivel\\n* GMR Airport City, Survey No. 99/1, Mamidipally 42-keela vaikolkara street ,kulathu sandhu,\\nVillage, Shamshabad woraiyur\\nHyderabad, Telangana, 500108 Trichy, TAMIL NADU, 620003\\nIN IN\\nState/UT Code: 33\\nPAN No: AAMCA5258P\\nGST Registration No: 36AAMCA5258P1ZY Shipping Address :\\nsakthivel\\nsakthivel\\n42-keela vaikolkara street ,kulathu sandhu,\\nworaiyur\\nTrichy, TAMIL NADU, 620003\\nIN\\nState/UT Code: 33\\nPlace of supply: TAMIL NADU\\nPlace of delivery: TAMIL NADU\\nOrder Number: 171-0472773-6395537 Invoice Number : IN-HYD8-1939\\nOrder Date: 15.06.2020 Invoice Details : TG-HYD8-154003231-2021\\nInvoice Date : 16.06.2020\\nSl. Unit Net Tax Tax Tax Total\\nDescription DiscountQty\\nNo Price AmountRateTypeAmountAmount\\n1 (Renewed) PTron Soundster Bluetooth Headphones, Over\\nThe Ear, Wireless Earphones with Mic, High Bass, 20 Hours ₹824.58 ₹0.00 1 ₹824.58 18% IGST ₹148.42 ₹973.00\\nof Music Time, Lightweight & Foldable Design for All\\nSmartphones (Black) | B07WCD9R1J ( FBR72450 )\\nShipping Charges ₹33.90 -₹33.90 ₹0.00 18% IGST ₹0.00 ₹0.00\\nTOTAL: ₹148.42₹973.00\\nAmount in Words:\\nNine Hundred And Seventy-three only\\nFor CAMBIUM RETAIL PRIVATE LIMITED:\\nAuthorized Signatory\\nWhether tax is payable under reverse charge - No\\n*ASSPL-Amazon Seller Services Pvt. Ltd., ARIPL-Amazon Retail India Pvt. Ltd. (only where Amazon Retail India Pvt. Ltd. fulfillment center is co-located)\\nCustomers desirous of availing input GST credit are requested to create a Business account and purchase on Amazon.in/business from Business eligible offers\\nPlease note that this invoice is not a demand for payment\\nPage 1 of 1'"
      ]
     },
     "execution_count": 3,
     "metadata": {},
     "output_type": "execute_result"
    }
   ],
   "source": [
    "# Extract raw data from pdf invoice\n",
    "\n",
    "with pdfplumber.open(invoice_file) as pdf:\n",
    "    page = pdf.pages[0]\n",
    "    text = page.extract_text()\n",
    "text"
   ]
  },
  {
   "cell_type": "code",
   "execution_count": 4,
   "id": "5f3ed153",
   "metadata": {},
   "outputs": [
    {
     "name": "stderr",
     "output_type": "stream",
     "text": [
      "CropBox missing from /Page, defaulting to MediaBox\n",
      "CropBox missing from /Page, defaulting to MediaBox\n"
     ]
    },
    {
     "name": "stdout",
     "output_type": "stream",
     "text": [
      "Tax Invoice/Bill of Supply/Cash Memo\n",
      "(Original for Recipient)\n",
      "Sold By : Billing Address :\n",
      "CAMBIUM RETAIL PRIVATE LIMITED sakthivel\n",
      "* GMR Airport City, Survey No. 99/1, Mamidipally 42-keela vaikolkara street ,kulathu sandhu,\n",
      "Village, Shamshabad woraiyur\n",
      "Hyderabad, Telangana, 500108 Trichy, TAMIL NADU, 620003\n",
      "IN IN\n",
      "State/UT Code: 33\n",
      "PAN No: AAMCA5258P\n",
      "GST Registration No: 36AAMCA5258P1ZY Shipping Address :\n",
      "sakthivel\n",
      "sakthivel\n",
      "42-keela vaikolkara street ,kulathu sandhu,\n",
      "woraiyur\n",
      "Trichy, TAMIL NADU, 620003\n",
      "IN\n",
      "State/UT Code: 33\n",
      "Place of supply: TAMIL NADU\n",
      "Place of delivery: TAMIL NADU\n",
      "Order Number: 171-0472773-6395537 Invoice Number : IN-HYD8-1939\n",
      "Order Date: 15.06.2020 Invoice Details : TG-HYD8-154003231-2021\n",
      "Invoice Date : 16.06.2020\n",
      "Sl. Unit Net Tax Tax Tax Total\n",
      "Description DiscountQty\n",
      "No Price AmountRateTypeAmountAmount\n",
      "1 (Renewed) PTron Soundster Bluetooth Headphones, Over\n",
      "The Ear, Wireless Earphones with Mic, High Bass, 20 Hours ₹824.58 ₹0.00 1 ₹824.58 18% IGST ₹148.42 ₹973.00\n",
      "of Music Time, Lightweight & Foldable Design for All\n",
      "Smartphones (Black) | B07WCD9R1J ( FBR72450 )\n",
      "Shipping Charges ₹33.90 -₹33.90 ₹0.00 18% IGST ₹0.00 ₹0.00\n",
      "TOTAL: ₹148.42₹973.00\n",
      "Amount in Words:\n",
      "Nine Hundred And Seventy-three only\n",
      "For CAMBIUM RETAIL PRIVATE LIMITED:\n",
      "Authorized Signatory\n",
      "Whether tax is payable under reverse charge - No\n",
      "*ASSPL-Amazon Seller Services Pvt. Ltd., ARIPL-Amazon Retail India Pvt. Ltd. (only where Amazon Retail India Pvt. Ltd. fulfillment center is co-located)\n",
      "Customers desirous of availing input GST credit are requested to create a Business account and purchase on Amazon.in/business from Business eligible offers\n",
      "Please note that this invoice is not a demand for payment\n",
      "Page 1 of 1\n"
     ]
    }
   ],
   "source": [
    "# split lines end with \\\n",
    "# page.extract_text() extracts the raw text from each page\n",
    "\n",
    "with pdfplumber.open(invoice_file) as pdf:\n",
    "    page = pdf.pages[0]\n",
    "    text = page.extract_text()\n",
    "    for line in text.split('\\n'):\n",
    "        print(line)\n",
    "    "
   ]
  },
  {
   "cell_type": "code",
   "execution_count": 5,
   "id": "742bed4e",
   "metadata": {},
   "outputs": [
    {
     "name": "stdout",
     "output_type": "stream",
     "text": [
      "Tax Invoice/Bill of Supply/Cash Memo (Original for Recipient) Sold By : Billing Address : CAMBIUM RETAIL PRIVATE LIMITED sakthivel * GMR Airport City, Survey No. 99/1, Mamidipally 42-keela vaikolkara street ,kulathu sandhu, Village, Shamshabad woraiyur Hyderabad, Telangana, 500108 Trichy, TAMIL NADU, 620003 IN IN State/UT Code: 33 PAN No: AAMCA5258P GST Registration No: 36AAMCA5258P1ZY Shipping Address : sakthivel sakthivel 42-keela vaikolkara street ,kulathu sandhu, woraiyur Trichy, TAMIL NADU, 620003 IN State/UT Code: 33 Place of supply: TAMIL NADU Place of delivery: TAMIL NADU Order Number: 171-0472773-6395537 Invoice Number : IN-HYD8-1939 Order Date: 15.06.2020 Invoice Details : TG-HYD8-154003231-2021 Invoice Date : 16.06.2020 Sl. Unit Net Tax Tax Tax Total Description DiscountQty No Price AmountRateTypeAmountAmount 1 (Renewed) PTron Soundster Bluetooth Headphones, Over The Ear, Wireless Earphones with Mic, High Bass, 20 Hours ₹824.58 ₹0.00 1 ₹824.58 18% IGST ₹148.42 ₹973.00 of Music Time, Lightweight & Foldable Design for All Smartphones (Black) | B07WCD9R1J ( FBR72450 ) Shipping Charges ₹33.90 -₹33.90 ₹0.00 18% IGST ₹0.00 ₹0.00 TOTAL: ₹148.42₹973.00 Amount in Words: Nine Hundred And Seventy-three only For CAMBIUM RETAIL PRIVATE LIMITED: Authorized Signatory Whether tax is payable under reverse charge - No *ASSPL-Amazon Seller Services Pvt. Ltd., ARIPL-Amazon Retail India Pvt. Ltd. (only where Amazon Retail India Pvt. Ltd. fulfillment center is co-located) Customers desirous of availing input GST credit are requested to create a Business account and purchase on Amazon.in/business from Business eligible offers Please note that this invoice is not a demand for payment Page 1 of 1\n"
     ]
    }
   ],
   "source": [
    "# Normalize text: flatten newlines and multiple spaces\n",
    "normalized_text = ' '.join(text.split())\n",
    "print(normalized_text)"
   ]
  },
  {
   "cell_type": "markdown",
   "id": "7ee34abc",
   "metadata": {},
   "source": [
    "# Extracting all details by one hard incoding"
   ]
  },
  {
   "cell_type": "code",
   "execution_count": null,
   "id": "64db7d68",
   "metadata": {},
   "outputs": [],
   "source": []
  },
  {
   "cell_type": "code",
   "execution_count": null,
   "id": "5e90b894",
   "metadata": {},
   "outputs": [],
   "source": []
  },
  {
   "cell_type": "code",
   "execution_count": 7,
   "id": "723a38f3",
   "metadata": {},
   "outputs": [
    {
     "name": "stdout",
     "output_type": "stream",
     "text": [
      "Extracted Shipping Address:\n",
      " sakthivel sakthivel 42-keela vaikolkara street ,kulathu sandhu, woraiyur Trichy, TAMIL NADU, 620003 IN State/UT Code: 33 Place of supply: TAMIL NADU Place of delivery: TAMIL NADU\n",
      "Extracted Billing Address    :     \n",
      "CAMBIUM RETAIL PRIVATE LIMITED sakthivel\n",
      "* GMR Airport City, Survey No. 99/1, Mamidipally 42-keela vaikolkara street ,kulathu sandhu,\n",
      "Village, Shamshabad woraiyur\n",
      "Hyderabad, Telangana, 500108 Trichy, TAMIL NADU, 620003\n",
      "IN IN\n",
      "State/UT Code: 33\n",
      "PAN No: AAMCA5258P\n",
      "GST Registration No: 36AAMCA5258P1ZY \n",
      "Extracted Product_Details    :     (Renewed) PTron Soundster Bluetooth Headphones, Over The Ear, Wireless Earphones with Mic, High Bass, 20 Hours ₹824.58 ₹0.00 1 ₹824.58 18% IGST ₹148.42 ₹973.00 of Music Time, Lightweight & Foldable Design for All Smartphones (Black)\n",
      "Data saved to 'Amazon_invoice4_data_extracted.xlsx'\n"
     ]
    }
   ],
   "source": [
    "normalized = ' '.join(text.split())\n",
    "\n",
    "# Patterns for extraction\n",
    "patterns = {\n",
    "    \"Order Number\": r\"Order\\s*Number\\s*:\\s*([\\d-]+)\",\n",
    "    \"Invoice Number\": r\"Invoice\\s*Number\\s*:\\s*([A-Z0-9-]+)\",\n",
    "    \"Order Date\": r\"Order\\s*Date\\s*:\\s*([\\d./]+)\",\n",
    "    \"Invoice Date\": r\"Invoice\\s*Date\\s*:\\s*([\\d./]+)\",\n",
    "    \"Invoice Details\": r\"Invoice\\s*Details\\s*:\\s*([A-Z0-9-]+)\",\n",
    "    \"PAN Number\": r\"PAN\\s*No\\s*:\\s*([A-Z0-9]+)\",\n",
    "    \"GST Number\": r\"GST\\s*Registration\\s*No\\s*:\\s*([A-Z0-9]+)\",\n",
    "    \"Amount in Words\": r\"Amount in Words:\\s*([A-Za-z\\s\\-]+only)\",\n",
    "    \"Total Amount\": r\"TOTAL:\\s*₹[\\d,.]+\\s*₹([\\d,.]+)\"\n",
    "}\n",
    "\n",
    "# Extract patterns\n",
    "results = {}\n",
    "for key, pattern in patterns.items():\n",
    "    match = re.search(pattern, normalized, re.IGNORECASE)\n",
    "    results[key] = match.group(1) if match else \"Not found\"\n",
    "    \n",
    "# Extract block between \"Shipping Address :\" and \"Order Number\"\n",
    "shipping_match = re.search(r\"Shipping Address\\s*:(.*?)Order Number\", text, re.DOTALL | re.IGNORECASE)\n",
    "shipping_block = shipping_match.group(1).strip() if shipping_match else \" \"\n",
    "\n",
    "# Remove PAN and GST numbers only (but preserve other text like names)\n",
    "shipping_block = re.sub(r'PAN No:\\s*\\w+\\s*', '', shipping_block)\n",
    "shipping_block = re.sub(r'GST Registration No:\\s*\\w+\\s*', '', shipping_block)\n",
    "\n",
    "# Clean up extra spaces\n",
    "shipping_address_cleaned = ' '.join(shipping_block.split())\n",
    "print(\"Extracted Shipping Address:\\n\", shipping_address_cleaned)\n",
    "    \n",
    "# Regular expression to extract Billing Address\n",
    "match = re.search( r'Billing Address\\s*:(.*?)Shipping Address', text, re.DOTALL |  re.IGNORECASE)\n",
    "Billing_Address = match.group(1) if match else None\n",
    "\n",
    "print(\"Extracted Billing Address    :    \", Billing_Address)    \n",
    "    \n",
    "# Isolate the product section\n",
    "product_section_match = re.search(r'(Sl\\..*?)(Amount in Words:)', text, re.DOTALL)\n",
    "product_section = product_section_match.group(1) if product_section_match else \"\"\n",
    "# Normalize whitespace\n",
    "product_section_cleaned = ' '.join(product_section.split())\n",
    "\n",
    "#Extract the product description before the first pipe \"|\"\n",
    "product_match = re.search(r'\\d+\\s+(.*?)\\s+\\|', product_section_cleaned)\n",
    "product_details = product_match.group(1).strip() if product_match else None\n",
    "\n",
    "print(\"Extracted Product_Details    :    \", product_details)   \n",
    "\n",
    "# Add addresses and product details to results\n",
    "results[\"Billing Address\"] = Billing_Address\n",
    "results[\"Shipping Address\"] = shipping_address_cleaned\n",
    "results[\"Product Details\"] = product_details\n",
    "    \n",
    "df = pd.DataFrame(list(results.items()), columns=[\"Field\", \"Detail\"])\n",
    "\n",
    "# Save to Excel\n",
    "df.to_excel(\"Amazon_invoice4_data_extracted.xlsx\", index=False, engine='openpyxl')\n",
    "\n",
    "print(\"Data saved to 'Amazon_invoice4_data_extracted.xlsx'\")   \n"
   ]
  },
  {
   "cell_type": "code",
   "execution_count": null,
   "id": "c7156289",
   "metadata": {},
   "outputs": [],
   "source": []
  },
  {
   "cell_type": "code",
   "execution_count": null,
   "id": "2449330f",
   "metadata": {},
   "outputs": [],
   "source": []
  },
  {
   "cell_type": "code",
   "execution_count": null,
   "id": "dbbcd66e",
   "metadata": {},
   "outputs": [],
   "source": []
  },
  {
   "cell_type": "code",
   "execution_count": null,
   "id": "ad3dcc22",
   "metadata": {},
   "outputs": [],
   "source": []
  },
  {
   "cell_type": "code",
   "execution_count": null,
   "id": "dcee48a6",
   "metadata": {},
   "outputs": [],
   "source": []
  },
  {
   "cell_type": "code",
   "execution_count": null,
   "id": "9c42c70c",
   "metadata": {},
   "outputs": [],
   "source": []
  },
  {
   "cell_type": "code",
   "execution_count": null,
   "id": "5cc7f9be",
   "metadata": {},
   "outputs": [],
   "source": []
  }
 ],
 "metadata": {
  "kernelspec": {
   "display_name": "Python 3 (ipykernel)",
   "language": "python",
   "name": "python3"
  },
  "language_info": {
   "codemirror_mode": {
    "name": "ipython",
    "version": 3
   },
   "file_extension": ".py",
   "mimetype": "text/x-python",
   "name": "python",
   "nbconvert_exporter": "python",
   "pygments_lexer": "ipython3",
   "version": "3.9.13"
  }
 },
 "nbformat": 4,
 "nbformat_minor": 5
}
