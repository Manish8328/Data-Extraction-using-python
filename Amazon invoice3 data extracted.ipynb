{
 "cells": [
  {
   "cell_type": "code",
   "execution_count": 2,
   "id": "5e41bdf1",
   "metadata": {},
   "outputs": [],
   "source": [
    "# We use the pdfplumber library to open the PDF and extract text from each page.\n",
    "import pdfplumber\n",
    "# re for regular expression for pattern matching\n",
    "import re \n",
    "import pandas as pd\n",
    "# Assigning file location\n",
    "invoice_file = r\"C:/Users/MANISH KUMAR/Desktop/Untitled Folder/Amazon_invoice3.pdf\""
   ]
  },
  {
   "cell_type": "code",
   "execution_count": 3,
   "id": "1a9e09e6",
   "metadata": {},
   "outputs": [
    {
     "name": "stderr",
     "output_type": "stream",
     "text": [
      "CropBox missing from /Page, defaulting to MediaBox\n",
      "CropBox missing from /Page, defaulting to MediaBox\n"
     ]
    },
    {
     "data": {
      "text/plain": [
       "'Tax Invoice/Bill of Supply/Cash Memo\\n(Original for Recipient)\\nSold By : Billing Address :\\nCloudtail India Private Limited R.Shyamala\\n* Rect/Killa Nos. 38//8/2 min, 192//22/1,196//2/1/1, 108,sree Ayyappa Nagar, First main road,,\\n37//15/1, 15/2,, Adjacent to Starex School, Village Chinmaya nagar stage I\\n- Binola, National Highway -8, Tehsil - Manesar CHENNAI, TAMIL NADU, 600092\\nGurgaon, Haryana, 122413 IN\\nIN State/UT Code: 33\\nPAN No: AAQCS4259Q Shipping Address :\\nGST Registration No: 06AAQCS4259Q1ZE R.Shyamala\\nR Swarna latha\\nNo. 146, 10th cross, 1st stage, Indranagar\\nBENGALURU, KARNATAKA, 560038\\nIN\\nState/UT Code: 29\\nPlace of supply: KARNATAKA\\nPlace of delivery: KARNATAKA\\nOrder Number: 403-1565911-5936322 Invoice Number : DEL5-12841370\\nOrder Date: 05.09.2021 Invoice Details : HR-DEL5-1004-2122\\nInvoice Date : 05.09.2021\\nSl. Unit Net Tax Tax Tax Total\\nDescription Qty\\nNo Price Amount Rate Type Amount Amount\\n1 Cello Classic Plastic Pedal Dustbin, 6 Liters, Grey |\\nB00XYEIYXE ( B00XYEIYXE ) ₹448.31 1 ₹448.31 18% IGST ₹80.69 ₹529.00\\nHSN:39241090\\nTOTAL: ₹80.69 ₹529.00\\nAmount in Words:\\nFive Hundred Twenty-nine only\\nFor Cloudtail India Private Limited:\\nAuthorized Signatory\\nWhether tax is payable under reverse charge - No\\n*ASSPL-Amazon Seller Services Pvt. Ltd., ARIPL-Amazon Retail India Pvt. Ltd. (only where Amazon Retail India Pvt. Ltd. fulfillment center is co-located)\\nCustomers desirous of availing input GST credit are requested to create a Business account and purchase on Amazon.in/business from Business eligible offers\\nPlease note that this invoice is not a demand for payment\\nPage 1 of 1'"
      ]
     },
     "execution_count": 3,
     "metadata": {},
     "output_type": "execute_result"
    }
   ],
   "source": [
    "# Extract raw data from pdf invoice\n",
    "\n",
    "with pdfplumber.open(invoice_file) as pdf:\n",
    "    page = pdf.pages[0]\n",
    "    text = page.extract_text()\n",
    "text"
   ]
  },
  {
   "cell_type": "code",
   "execution_count": 4,
   "id": "329113dc",
   "metadata": {},
   "outputs": [
    {
     "name": "stderr",
     "output_type": "stream",
     "text": [
      "CropBox missing from /Page, defaulting to MediaBox\n",
      "CropBox missing from /Page, defaulting to MediaBox\n"
     ]
    },
    {
     "name": "stdout",
     "output_type": "stream",
     "text": [
      "Tax Invoice/Bill of Supply/Cash Memo\n",
      "(Original for Recipient)\n",
      "Sold By : Billing Address :\n",
      "Cloudtail India Private Limited R.Shyamala\n",
      "* Rect/Killa Nos. 38//8/2 min, 192//22/1,196//2/1/1, 108,sree Ayyappa Nagar, First main road,,\n",
      "37//15/1, 15/2,, Adjacent to Starex School, Village Chinmaya nagar stage I\n",
      "- Binola, National Highway -8, Tehsil - Manesar CHENNAI, TAMIL NADU, 600092\n",
      "Gurgaon, Haryana, 122413 IN\n",
      "IN State/UT Code: 33\n",
      "PAN No: AAQCS4259Q Shipping Address :\n",
      "GST Registration No: 06AAQCS4259Q1ZE R.Shyamala\n",
      "R Swarna latha\n",
      "No. 146, 10th cross, 1st stage, Indranagar\n",
      "BENGALURU, KARNATAKA, 560038\n",
      "IN\n",
      "State/UT Code: 29\n",
      "Place of supply: KARNATAKA\n",
      "Place of delivery: KARNATAKA\n",
      "Order Number: 403-1565911-5936322 Invoice Number : DEL5-12841370\n",
      "Order Date: 05.09.2021 Invoice Details : HR-DEL5-1004-2122\n",
      "Invoice Date : 05.09.2021\n",
      "Sl. Unit Net Tax Tax Tax Total\n",
      "Description Qty\n",
      "No Price Amount Rate Type Amount Amount\n",
      "1 Cello Classic Plastic Pedal Dustbin, 6 Liters, Grey |\n",
      "B00XYEIYXE ( B00XYEIYXE ) ₹448.31 1 ₹448.31 18% IGST ₹80.69 ₹529.00\n",
      "HSN:39241090\n",
      "TOTAL: ₹80.69 ₹529.00\n",
      "Amount in Words:\n",
      "Five Hundred Twenty-nine only\n",
      "For Cloudtail India Private Limited:\n",
      "Authorized Signatory\n",
      "Whether tax is payable under reverse charge - No\n",
      "*ASSPL-Amazon Seller Services Pvt. Ltd., ARIPL-Amazon Retail India Pvt. Ltd. (only where Amazon Retail India Pvt. Ltd. fulfillment center is co-located)\n",
      "Customers desirous of availing input GST credit are requested to create a Business account and purchase on Amazon.in/business from Business eligible offers\n",
      "Please note that this invoice is not a demand for payment\n",
      "Page 1 of 1\n"
     ]
    }
   ],
   "source": [
    "# split lines end with \\\n",
    "# page.extract_text() extracts the raw text from each page\n",
    "\n",
    "with pdfplumber.open(invoice_file) as pdf:\n",
    "    page = pdf.pages[0]\n",
    "    text = page.extract_text()\n",
    "    for line in text.split('\\n'):\n",
    "        print(line)\n",
    "    "
   ]
  },
  {
   "cell_type": "code",
   "execution_count": 5,
   "id": "5e5a3e19",
   "metadata": {},
   "outputs": [
    {
     "name": "stdout",
     "output_type": "stream",
     "text": [
      "Tax Invoice/Bill of Supply/Cash Memo (Original for Recipient) Sold By : Billing Address : Cloudtail India Private Limited R.Shyamala * Rect/Killa Nos. 38//8/2 min, 192//22/1,196//2/1/1, 108,sree Ayyappa Nagar, First main road,, 37//15/1, 15/2,, Adjacent to Starex School, Village Chinmaya nagar stage I - Binola, National Highway -8, Tehsil - Manesar CHENNAI, TAMIL NADU, 600092 Gurgaon, Haryana, 122413 IN IN State/UT Code: 33 PAN No: AAQCS4259Q Shipping Address : GST Registration No: 06AAQCS4259Q1ZE R.Shyamala R Swarna latha No. 146, 10th cross, 1st stage, Indranagar BENGALURU, KARNATAKA, 560038 IN State/UT Code: 29 Place of supply: KARNATAKA Place of delivery: KARNATAKA Order Number: 403-1565911-5936322 Invoice Number : DEL5-12841370 Order Date: 05.09.2021 Invoice Details : HR-DEL5-1004-2122 Invoice Date : 05.09.2021 Sl. Unit Net Tax Tax Tax Total Description Qty No Price Amount Rate Type Amount Amount 1 Cello Classic Plastic Pedal Dustbin, 6 Liters, Grey | B00XYEIYXE ( B00XYEIYXE ) ₹448.31 1 ₹448.31 18% IGST ₹80.69 ₹529.00 HSN:39241090 TOTAL: ₹80.69 ₹529.00 Amount in Words: Five Hundred Twenty-nine only For Cloudtail India Private Limited: Authorized Signatory Whether tax is payable under reverse charge - No *ASSPL-Amazon Seller Services Pvt. Ltd., ARIPL-Amazon Retail India Pvt. Ltd. (only where Amazon Retail India Pvt. Ltd. fulfillment center is co-located) Customers desirous of availing input GST credit are requested to create a Business account and purchase on Amazon.in/business from Business eligible offers Please note that this invoice is not a demand for payment Page 1 of 1\n"
     ]
    }
   ],
   "source": [
    "# Normalize text: flatten newlines and multiple spaces\n",
    "normalized_text = ' '.join(text.split())\n",
    "print(normalized_text)"
   ]
  },
  {
   "cell_type": "markdown",
   "id": "f430a828",
   "metadata": {},
   "source": [
    "# Extracting all details by one hard incoding"
   ]
  },
  {
   "cell_type": "code",
   "execution_count": 8,
   "id": "ed4308fc",
   "metadata": {},
   "outputs": [
    {
     "name": "stdout",
     "output_type": "stream",
     "text": [
      "Total Amount: ₹529.00\n"
     ]
    }
   ],
   "source": [
    "match = re.search(r'TOTAL:\\s*₹[\\d,.]+\\s*₹([\\d,.]+)', normalized_text)\n",
    "if match:\n",
    "    total_amount = match.group(1)\n",
    "    print(f\"Total Amount: ₹{total_amount}\")\n",
    "else:\n",
    "    print(\"Total amount not found.\")"
   ]
  },
  {
   "cell_type": "code",
   "execution_count": 10,
   "id": "86cc0b4a",
   "metadata": {},
   "outputs": [
    {
     "name": "stdout",
     "output_type": "stream",
     "text": [
      "Extracted Total Amount    :     529.00\n"
     ]
    }
   ],
   "source": [
    "match = re.search(r'TOTAL:\\s*₹[\\d,.]+\\s*₹([\\d,.]+)', normalized_text, re.IGNORECASE)\n",
    "\n",
    "# Extract Total_amount if the match is found\n",
    "Total_amount = match.group(1) if match else None\n",
    "\n",
    "# Output the extracted second Total Amount\n",
    "print(\"Extracted Total Amount    :    \", Total_amount)"
   ]
  },
  {
   "cell_type": "code",
   "execution_count": 12,
   "id": "a13f4c2a",
   "metadata": {},
   "outputs": [
    {
     "name": "stdout",
     "output_type": "stream",
     "text": [
      "Extracted Shipping Address:\n",
      " R.Shyamala R Swarna latha No. 146, 10th cross, 1st stage, Indranagar BENGALURU, KARNATAKA, 560038 IN State/UT Code: 29 Place of supply: KARNATAKA Place of delivery: KARNATAKA\n",
      "Extracted Billing Address    :     \n",
      "Cloudtail India Private Limited R.Shyamala\n",
      "* Rect/Killa Nos. 38//8/2 min, 192//22/1,196//2/1/1, 108,sree Ayyappa Nagar, First main road,,\n",
      "37//15/1, 15/2,, Adjacent to Starex School, Village Chinmaya nagar stage I\n",
      "- Binola, National Highway -8, Tehsil - Manesar CHENNAI, TAMIL NADU, 600092\n",
      "Gurgaon, Haryana, 122413 IN\n",
      "IN State/UT Code: 33\n",
      "PAN No: AAQCS4259Q \n",
      "Extracted Product_Details    :     Cello Classic Plastic Pedal Dustbin, 6 Liters, Grey\n",
      "Data saved to 'Amazon_invoice3_data_extracted.xlsx'\n"
     ]
    }
   ],
   "source": [
    "normalized = ' '.join(text.split())\n",
    "\n",
    "# Patterns for extraction\n",
    "patterns = {\n",
    "    \"Order Number\": r\"Order\\s*Number\\s*:\\s*([\\d-]+)\",\n",
    "    \"Invoice Number\": r\"Invoice\\s*Number\\s*:\\s*([A-Z0-9-]+)\",\n",
    "    \"Order Date\": r\"Order\\s*Date\\s*:\\s*([\\d./]+)\",\n",
    "    \"Invoice Date\": r\"Invoice\\s*Date\\s*:\\s*([\\d./]+)\",\n",
    "    \"Invoice Details\": r\"Invoice\\s*Details\\s*:\\s*([A-Z0-9-]+)\",\n",
    "    \"PAN Number\": r\"PAN\\s*No\\s*:\\s*([A-Z0-9]+)\",\n",
    "    \"GST Number\": r\"GST\\s*Registration\\s*No\\s*:\\s*([A-Z0-9]+)\",\n",
    "    \"Amount in Words\": r\"Amount in Words:\\s*([A-Za-z\\s\\-]+only)\",\n",
    "    \"Total Amount\": r\"TOTAL:\\s*₹[\\d,.]+\\s*₹([\\d,.]+)\"\n",
    "}\n",
    "\n",
    "# Extract patterns\n",
    "results = {}\n",
    "for key, pattern in patterns.items():\n",
    "    match = re.search(pattern, normalized, re.IGNORECASE)\n",
    "    results[key] = match.group(1) if match else \"Not found\"\n",
    "    \n",
    "# Extract block between \"Shipping Address :\" and \"Order Number\"\n",
    "shipping_match = re.search(r\"Shipping Address\\s*:(.*?)Order Number\", text, re.DOTALL | re.IGNORECASE)\n",
    "shipping_block = shipping_match.group(1).strip() if shipping_match else \" \"\n",
    "\n",
    "# Remove PAN and GST numbers only (but preserve other text like names)\n",
    "shipping_block = re.sub(r'PAN No:\\s*\\w+\\s*', '', shipping_block)\n",
    "shipping_block = re.sub(r'GST Registration No:\\s*\\w+\\s*', '', shipping_block)\n",
    "\n",
    "# Clean up extra spaces\n",
    "shipping_address_cleaned = ' '.join(shipping_block.split())\n",
    "print(\"Extracted Shipping Address:\\n\", shipping_address_cleaned)\n",
    "    \n",
    "# Regular expression to extract Billing Address\n",
    "match = re.search( r'Billing Address\\s*:(.*?)Shipping Address', text, re.DOTALL |  re.IGNORECASE)\n",
    "Billing_Address = match.group(1) if match else None\n",
    "\n",
    "print(\"Extracted Billing Address    :    \", Billing_Address)    \n",
    "    \n",
    "# Isolate the product section\n",
    "product_section_match = re.search(r'(Sl\\..*?)(Amount in Words:)', text, re.DOTALL)\n",
    "product_section = product_section_match.group(1) if product_section_match else \"\"\n",
    "# Normalize whitespace\n",
    "product_section_cleaned = ' '.join(product_section.split())\n",
    "\n",
    "#Extract the product description before the first pipe \"|\"\n",
    "product_match = re.search(r'\\d+\\s+(.*?)\\s+\\|', product_section_cleaned)\n",
    "product_details = product_match.group(1).strip() if product_match else None\n",
    "\n",
    "print(\"Extracted Product_Details    :    \", product_details)   \n",
    "\n",
    "# Add addresses and product details to results\n",
    "results[\"Billing Address\"] = Billing_Address\n",
    "results[\"Shipping Address\"] = shipping_address_cleaned\n",
    "results[\"Product Details\"] = product_details\n",
    "    \n",
    "df = pd.DataFrame(list(results.items()), columns=[\"Field\", \"Detail\"])\n",
    "\n",
    "# Save to Excel\n",
    "df.to_excel(\"Amazon_invoice3_data_extracted.xlsx\", index=False, engine='openpyxl')\n",
    "\n",
    "print(\"Data saved to 'Amazon_invoice3_data_extracted.xlsx'\")   \n"
   ]
  },
  {
   "cell_type": "markdown",
   "id": "c802993a",
   "metadata": {},
   "source": [
    "# All details are in excel file here printed only Product_Details, Shipping Address and Billing Address"
   ]
  },
  {
   "cell_type": "code",
   "execution_count": null,
   "id": "284480d8",
   "metadata": {},
   "outputs": [],
   "source": []
  }
 ],
 "metadata": {
  "kernelspec": {
   "display_name": "Python 3 (ipykernel)",
   "language": "python",
   "name": "python3"
  },
  "language_info": {
   "codemirror_mode": {
    "name": "ipython",
    "version": 3
   },
   "file_extension": ".py",
   "mimetype": "text/x-python",
   "name": "python",
   "nbconvert_exporter": "python",
   "pygments_lexer": "ipython3",
   "version": "3.9.13"
  }
 },
 "nbformat": 4,
 "nbformat_minor": 5
}
